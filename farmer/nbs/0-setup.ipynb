{
 "cells": [
  {
   "cell_type": "markdown",
   "metadata": {},
   "source": [
    "## Setup\n",
    "\n",
    "Initial setup steps for https://www.kaggle.com/c/state-farm-distracted-driver-detection:\n",
    "\n",
    "- Create \"nbs\" folder with ipython notebooks and add this notebook to the folder\n",
    "- Back to the base directory, download kaggle data: kg download -u `username` -p `password` -c state-farm-distracted-driver-detection\n",
    "- Unzip then remove *.zip"
   ]
  },
  {
   "cell_type": "code",
   "execution_count": 3,
   "metadata": {
    "collapsed": true
   },
   "outputs": [],
   "source": [
    "import glob, numpy as np, os, pandas as pd, random, shutil\n",
    "from shutil import copyfile\n",
    "\n",
    "base_dir = '../'"
   ]
  },
  {
   "cell_type": "markdown",
   "metadata": {},
   "source": [
    "## Folder Structure"
   ]
  },
  {
   "cell_type": "markdown",
   "metadata": {},
   "source": [
    "### Initial train, validation and test sets"
   ]
  },
  {
   "cell_type": "code",
   "execution_count": 3,
   "metadata": {
    "collapsed": true
   },
   "outputs": [],
   "source": [
    "if not os.path.exists(base_dir + 'models'): \n",
    "    os.makedirs(base_dir + 'models')\n",
    "\n",
    "if not os.path.exists(base_dir + 'valid'): \n",
    "    os.makedirs(base_dir + 'valid')\n",
    "    [os.mkdir('{}/c{}'.format(base_dir + 'valid', i)) for i in range(10)]\n",
    "    \n",
    "if not os.path.exists(base_dir + 'test'): \n",
    "    os.makedirs(base_dir + 'test')\n",
    "    os.makedirs(base_dir + 'test/unknown')"
   ]
  },
  {
   "cell_type": "markdown",
   "metadata": {},
   "source": [
    "### Sample sets"
   ]
  },
  {
   "cell_type": "code",
   "execution_count": null,
   "metadata": {
    "collapsed": true
   },
   "outputs": [],
   "source": [
    "if not os.path.exists(base_dir + 'sample'): \n",
    "    os.makedirs(base_dir + 'sample')\n",
    "    os.makedirs(base_dir + 'sample/models')\n",
    "    os.makedirs(base_dir + 'sample/train')\n",
    "    [os.mkdir('{}/c{}'.format(base_dir + 'sample/train', i)) for i in range(10)]\n",
    "    os.makedirs(base_dir + 'sample/valid')\n",
    "    [os.mkdir('{}/c{}'.format(base_dir + 'sample/valid', i)) for i in range(10)]\n",
    "    os.makedirs(base_dir + 'sample/test')\n",
    "    os.makedirs(base_dir + 'sample/test/unknown')"
   ]
  },
  {
   "cell_type": "markdown",
   "metadata": {},
   "source": [
    "### Bounding Box Detection Sets"
   ]
  },
  {
   "cell_type": "code",
   "execution_count": null,
   "metadata": {
    "collapsed": true
   },
   "outputs": [],
   "source": [
    "if not os.path.exists(base_dir + 'bb_train'):\n",
    "    os.makedirs(base_dir + 'bb_train')\n",
    "    os.makedirs(base_dir + 'bb_train/unknown')\n",
    "    \n",
    "if not os.path.exists(base_dir + 'bb_valid'):\n",
    "    os.makedirs(base_dir + 'bb_valid')\n",
    "    os.makedirs(base_dir + 'bb_valid/unknown')"
   ]
  },
  {
   "cell_type": "markdown",
   "metadata": {},
   "source": [
    "### Bounding Box Cropped Sets"
   ]
  },
  {
   "cell_type": "code",
   "execution_count": null,
   "metadata": {
    "collapsed": true
   },
   "outputs": [],
   "source": [
    "if not os.path.exists(base_dir + 'cropped_train'): \n",
    "    os.makedirs(base_dir + 'cropped_train')\n",
    "    [os.mkdir('{}/c{}'.format(base_dir + 'cropped_train', i)) for i in range(10)]\n",
    "\n",
    "if not os.path.exists(base_dir + 'cropped_valid'): \n",
    "    os.makedirs(base_dir + 'cropped_valid')\n",
    "    [os.mkdir('{}/c{}'.format(base_dir + 'cropped_valid', i)) for i in range(10)]\n",
    "    \n",
    "if not os.path.exists(base_dir + 'cropped_test'): \n",
    "    os.makedirs(base_dir + 'cropped_test')\n",
    "    os.makedirs(base_dir + 'cropped_test/unknown')"
   ]
  },
  {
   "cell_type": "markdown",
   "metadata": {},
   "source": [
    "## Validation Set Generation"
   ]
  },
  {
   "cell_type": "code",
   "execution_count": 42,
   "metadata": {},
   "outputs": [
    {
     "name": "stdout",
     "output_type": "stream",
     "text": [
      "4574 /22424 -> 0.20397788084195506% validation\n"
     ]
    }
   ],
   "source": [
    "imgs_table = pd.read_csv(base_dir + 'driver_imgs_list.csv')\n",
    "driver_ids = df['subject'].unique().tolist()\n",
    "valid_driver_ids = random.sample(driver_ids, 5)\n",
    "valid_imgs_table = df[df['subject'].isin(valid_driver_ids)]\n",
    "print('trn/valid ratio: ' + str(valid_imgs_table.shape[0]/imgs_table.shape[0]) + '% (proceed if around 20%)')"
   ]
  },
  {
   "cell_type": "code",
   "execution_count": 44,
   "metadata": {
    "collapsed": true
   },
   "outputs": [],
   "source": [
    "for index, row in valid_imgs_table.iterrows():\n",
    "    src_path = base_dir + 'train/' + row['classname'] + '/' + row['img']\n",
    "    dest_path = base_dir + 'valid/' + row['classname']\n",
    "    shutil.move(src_path, dest_path)"
   ]
  },
  {
   "cell_type": "markdown",
   "metadata": {},
   "source": [
    "## Sample Sets Generation"
   ]
  },
  {
   "cell_type": "code",
   "execution_count": 46,
   "metadata": {},
   "outputs": [
    {
     "name": "stdout",
     "output_type": "stream",
     "text": [
      "/home/ubuntu/fast/kaggle/farmer/train\n"
     ]
    }
   ],
   "source": [
    "%cd /home/ubuntu/fast/kaggle/farmer/train\n",
    "g = glob.glob('c?/*.jpg')\n",
    "shuf = np.random.permutation(g)\n",
    "for i in range(1500): copyfile(shuf[i], '../sample/train/' + shuf[i])\n",
    "    \n",
    "%cd /home/ubuntu/fast/kaggle/farmer/valid\n",
    "g = glob.glob('c?/*.jpg')\n",
    "shuf = np.random.permutation(g)\n",
    "for i in range(1000): copyfile(shuf[i], '../sample/valid/' + shuf[i])"
   ]
  },
  {
   "cell_type": "markdown",
   "metadata": {},
   "source": [
    "## Bounding Box Detection Sets Generation"
   ]
  },
  {
   "cell_type": "code",
   "execution_count": 10,
   "metadata": {},
   "outputs": [
    {
     "name": "stdout",
     "output_type": "stream",
     "text": [
      "/home/ubuntu/fast/kaggle/farmer/train\n",
      "/home/ubuntu/fast/kaggle/farmer/valid\n"
     ]
    }
   ],
   "source": [
    "%cd /home/ubuntu/fast/kaggle/farmer/train\n",
    "g = glob.glob('c?/*.jpg')\n",
    "shuf = np.random.permutation(g)\n",
    "# print(shuf[0].split('/')[-1])\n",
    "for i in range(360): copyfile(shuf[i], '../bb_train/unknown/' + shuf[i].split('/')[-1])\n",
    "    \n",
    "%cd /home/ubuntu/fast/kaggle/farmer/valid\n",
    "g = glob.glob('c?/*.jpg')\n",
    "shuf = np.random.permutation(g)\n",
    "for i in range(180): copyfile(shuf[i], '../bb_valid/unknown/' + shuf[i].split('/')[-1])"
   ]
  },
  {
   "cell_type": "code",
   "execution_count": 3,
   "metadata": {},
   "outputs": [
    {
     "data": {
      "text/html": [
       "<a href='/home/ubuntu/fast/kaggle/farmer/bb_valid.zip' target='_blank'>/home/ubuntu/fast/kaggle/farmer/bb_valid.zip</a><br>"
      ],
      "text/plain": [
       "/home/ubuntu/fast/kaggle/farmer/bb_valid.zip"
      ]
     },
     "execution_count": 3,
     "metadata": {},
     "output_type": "execute_result"
    }
   ],
   "source": [
    "from IPython.display import FileLink\n",
    "FileLink(\"/home/ubuntu/fast/kaggle/farmer/bb_valid.zip\") # Download for manual labeling"
   ]
  },
  {
   "cell_type": "code",
   "execution_count": 4,
   "metadata": {},
   "outputs": [
    {
     "data": {
      "text/html": [
       "<a href='/home/ubuntu/fast/kaggle/farmer/bb_train.zip' target='_blank'>/home/ubuntu/fast/kaggle/farmer/bb_train.zip</a><br>"
      ],
      "text/plain": [
       "/home/ubuntu/fast/kaggle/farmer/bb_train.zip"
      ]
     },
     "execution_count": 4,
     "metadata": {},
     "output_type": "execute_result"
    }
   ],
   "source": [
    "FileLink(\"/home/ubuntu/fast/kaggle/farmer/bb_train.zip\") # Download for manual labeling"
   ]
  },
  {
   "cell_type": "markdown",
   "metadata": {},
   "source": [
    "## Dividing Test Set for Pseudo Labeling"
   ]
  },
  {
   "cell_type": "code",
   "execution_count": 2,
   "metadata": {
    "collapsed": true
   },
   "outputs": [],
   "source": [
    "# Divide test set in 4 for pseudo labeling\n",
    "if not os.path.exists(base_dir + 'test1'): \n",
    "    os.makedirs(base_dir + 'test1')\n",
    "    os.makedirs(base_dir + 'test1/unknown')\n",
    "    os.makedirs(base_dir + 'test2')\n",
    "    os.makedirs(base_dir + 'test2/unknown')\n",
    "    os.makedirs(base_dir + 'test3')\n",
    "    os.makedirs(base_dir + 'test3/unknown')\n",
    "    os.makedirs(base_dir + 'test4')\n",
    "    os.makedirs(base_dir + 'test4/unknown') "
   ]
  },
  {
   "cell_type": "code",
   "execution_count": 4,
   "metadata": {},
   "outputs": [
    {
     "name": "stdout",
     "output_type": "stream",
     "text": [
      "/home/ubuntu/fast/kaggle/farmer/test\n"
     ]
    }
   ],
   "source": [
    "%cd /home/ubuntu/fast/kaggle/farmer/test\n",
    "g = glob.glob('unknown/*.jpg')\n",
    "shuf = np.random.permutation(g)\n",
    "for i in range(79726):\n",
    "    if i % 4 == 0:\n",
    "        copyfile(shuf[i], '../test1/' + shuf[i])\n",
    "    if i % 4 == 1:\n",
    "        copyfile(shuf[i], '../test2/' + shuf[i])\n",
    "    if i % 4 == 2:\n",
    "        copyfile(shuf[i], '../test3/' + shuf[i])\n",
    "    if i % 4 == 3:\n",
    "        copyfile(shuf[i], '../test4/' + shuf[i])"
   ]
  }
 ],
 "metadata": {
  "kernelspec": {
   "display_name": "Python 3",
   "language": "python",
   "name": "python3"
  },
  "language_info": {
   "codemirror_mode": {
    "name": "ipython",
    "version": 3
   },
   "file_extension": ".py",
   "mimetype": "text/x-python",
   "name": "python",
   "nbconvert_exporter": "python",
   "pygments_lexer": "ipython3",
   "version": "3.6.2"
  }
 },
 "nbformat": 4,
 "nbformat_minor": 2
}
