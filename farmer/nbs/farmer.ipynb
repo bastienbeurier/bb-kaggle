{
 "cells": [
  {
   "cell_type": "markdown",
   "metadata": {},
   "source": [
    "# Distracted Driver Detection\n",
    "\n",
    "Attempting to finetune Vgg16 model to solve https://www.kaggle.com/c/state-farm-distracted-driver-detection."
   ]
  },
  {
   "cell_type": "code",
   "execution_count": 34,
   "metadata": {},
   "outputs": [],
   "source": [
    "from importlib import reload\n",
    "from keras.preprocessing import image\n",
    "\n",
    "import os.path\n",
    "import pandas as pd\n",
    "import random\n",
    "import sys\n",
    "\n",
    "sys.path.insert(0, './../..')\n",
    "import utils; reload(utils)\n",
    "from utils import *\n",
    "\n",
    "%matplotlib inline\n",
    "\n",
    "K.set_image_dim_ordering('th')\n",
    "base_dir = '../sample/'\n",
    "# base_dir = '../'\n",
    "batch_size = 64\n",
    "output_size = 10\n",
    "dropout = 0.7"
   ]
  },
  {
   "cell_type": "code",
   "execution_count": 4,
   "metadata": {},
   "outputs": [
    {
     "name": "stdout",
     "output_type": "stream",
     "text": [
      "Found 1500 images belonging to 10 classes.\n",
      "Found 1500 images belonging to 10 classes.\n",
      "Found 1000 images belonging to 10 classes.\n",
      "Found 0 images belonging to 1 classes.\n"
     ]
    }
   ],
   "source": [
    "gen = image.ImageDataGenerator()\n",
    "gen_with_aug = image.ImageDataGenerator(rotation_range=15, \n",
    "                                        height_shift_range=0.05, \n",
    "                                        shear_range=0.1, \n",
    "                                        channel_shift_range=20, \n",
    "                                        width_shift_range=0.1)\n",
    "\n",
    "batches = gen.flow_from_directory(base_dir + 'train/', \n",
    "                                  target_size=(224,224),\n",
    "                                  class_mode='categorical', \n",
    "                                  shuffle=False, \n",
    "                                  batch_size=batch_size)\n",
    "batches_aug = gen_with_aug.flow_from_directory(base_dir + 'train/', \n",
    "                                                   target_size=(224,224),\n",
    "                                                   class_mode='categorical', \n",
    "                                                   shuffle=True, \n",
    "                                                   batch_size=batch_size)\n",
    "val_batches = gen.flow_from_directory(base_dir + 'valid/',\n",
    "                                     target_size=(224,224),\n",
    "                                     class_mode='categorical',\n",
    "                                     shuffle=False,\n",
    "                                     batch_size=batch_size)\n",
    "test_batches = gen.flow_from_directory(base_dir + 'test/',\n",
    "                                     target_size=(224,224),\n",
    "                                     class_mode='categorical',\n",
    "                                     shuffle=False,\n",
    "                                     batch_size=batch_size)\n",
    "\n",
    "# Fragmented test batches for pseudo labeling\n",
    "# test_batches_arr = []\n",
    "# for i in range(4):\n",
    "#     b = gen.flow_from_directory(base_dir + 'test' + str(i+1) + '/',\n",
    "#                                      target_size=(224,224),\n",
    "#                                      class_mode='categorical',\n",
    "#                                      shuffle=False,\n",
    "#                                      batch_size=batch_size)\n",
    "#     test_batches_arr.append(b)\n",
    "\n",
    "trn_labels = to_categorical(batches.classes)\n",
    "val_labels = to_categorical(val_batches.classes)"
   ]
  },
  {
   "cell_type": "code",
   "execution_count": null,
   "metadata": {
    "collapsed": true
   },
   "outputs": [],
   "source": [
    "filenames = batches.filenames\n",
    "labels = batches.classes\n",
    "\n",
    "# View each category\n",
    "for i in range(output_size):\n",
    "    idx = np.random.permutation(np.where(labels == i)[0])[:4]\n",
    "    plot([image.load_img(base_dir + 'train/' + filenames[j]) for j in idx], titles=[filenames[j] for j in idx])"
   ]
  },
  {
   "cell_type": "code",
   "execution_count": null,
   "metadata": {},
   "outputs": [],
   "source": [
    "# View each driver\n",
    "imgs_table = pd.read_csv('../driver_imgs_list.csv')\n",
    "driver_id = random.sample(imgs_table['subject'].unique().tolist(), 1)\n",
    "driver_imgs_table = imgs_table[imgs_table['subject'].isin(driver_id)]\n",
    "\n",
    "img_paths = []\n",
    "for index, row in driver_imgs_table.iterrows():\n",
    "    filepath = base_dir + 'train/' + row['classname'] + '/' + row['img']\n",
    "    if os.path.isfile(filepath): img_paths.append(filepath) # Some have been moved to validation\n",
    "        \n",
    "plot_paths(img_paths)"
   ]
  },
  {
   "cell_type": "markdown",
   "metadata": {},
   "source": [
    "## Convolutional pre-computing"
   ]
  },
  {
   "cell_type": "code",
   "execution_count": null,
   "metadata": {
    "collapsed": true
   },
   "outputs": [],
   "source": [
    "m = vgg(output_size, dropout=dropout)\n",
    "cm = conv_model(m)\n",
    "\n",
    "batches.reset()\n",
    "trn_features = cm.predict_generator(batches, steps(batches, batch_size), verbose=1)\n",
    "save_array(base_dir + 'models/train_convlayer_features.bc', trn_features)\n",
    "\n",
    "val_batches.reset()\n",
    "val_features = cm.predict_generator(val_batches, steps(val_batches, batch_size), verbose=1)\n",
    "save_array(base_dir + 'models/valid_convlayer_features.bc', val_features)"
   ]
  },
  {
   "cell_type": "code",
   "execution_count": null,
   "metadata": {
    "collapsed": true
   },
   "outputs": [],
   "source": [
    "for i in range(4):\n",
    "    b = test_batches_arr[i]\n",
    "    b.reset()\n",
    "    features = cm.predict_generator(b, steps(b, batch_size), verbose=1)\n",
    "    save_array(base_dir + 'models/test' + str(i + 1) + '_convlayer_features.bc', features)"
   ]
  },
  {
   "cell_type": "code",
   "execution_count": 5,
   "metadata": {},
   "outputs": [],
   "source": [
    "trn_features = load_array(base_dir + 'models/train_convlayer_features.bc')\n",
    "val_features = load_array(base_dir + 'models/valid_convlayer_features.bc')"
   ]
  },
  {
   "cell_type": "markdown",
   "metadata": {},
   "source": [
    "## Finetuning"
   ]
  },
  {
   "cell_type": "code",
   "execution_count": 6,
   "metadata": {
    "collapsed": true
   },
   "outputs": [],
   "source": [
    "def finetune_last_layer(model, index):\n",
    "    dm = vgg_fc_model(model, output_size, dropout=dropout)\n",
    "    for i in range(len(dm.layers)): dm.layers[i].trainable = i >= len(dm.layers) - 3\n",
    "    \n",
    "    fit_with_features(dm, RMSprop(1e-5), 12, trn_features, trn_labels, val_features, val_labels, batch_size=batch_size)\n",
    "    fit_with_features(dm, RMSprop(1e-7), 6, trn_features, trn_labels, val_features, val_labels, batch_size=batch_size)\n",
    "    \n",
    "    for l1,l2 in zip(model.layers[last_conv_idx(model) + 1:], dm.layers): l1.set_weights(l2.get_weights())\n",
    "    model.save_weights(base_dir + 'models/last' + str(index) + '.h5')\n",
    "    \n",
    "def finetune_dense_layers(model, index):\n",
    "    dm = vgg_fc_model(model, output_size, dropout=dropout)\n",
    "    for l in dm.layers: l.trainable = True\n",
    "    \n",
    "    fit_with_features(dm, RMSprop(1e-5), 10, trn_features, trn_labels, val_features, val_labels, batch_size=batch_size)\n",
    "    fit_with_features(dm, RMSprop(1e-6), 8, trn_features, trn_labels, val_features, val_labels, batch_size=batch_size)\n",
    "    fit_with_features(dm, RMSprop(1e-7), 10, trn_features, trn_labels, val_features, val_labels, batch_size=batch_size)  \n",
    "    \n",
    "    for l1,l2 in zip(model.layers[last_conv_idx(model) + 1:], dm.layers): l1.set_weights(l2.get_weights())\n",
    "    model.save_weights(base_dir + 'models/dense' + str(index) + '.h5')\n",
    "    \n",
    "def finetune_w_valid_pseudo_labels(model, index):\n",
    "    finetune_w_pseudo_labels(model, index, val_features, \"pseudo_label\")  \n",
    "    \n",
    "def finetune_w_test_pseudo_labels(model, index):\n",
    "    for i in range(4):\n",
    "        features = load_array(base_dir + 'models/test' + str(i+1) + '_convlayer_features.bc')\n",
    "        finetune_w_pseudo_labels(model, index, features, \"pseudo_label_w_test\")\n",
    "        \n",
    "def finetune_w_pseudo_labels(model, index, features, log_id):\n",
    "    dm = vgg_fc_model(model, output_size, dropout=dropout)\n",
    "    for l in dm.layers: l.trainable = True\n",
    "        \n",
    "    pseudo_labels = dm.predict(features, batch_size=batch_size, verbose=1)\n",
    "    comb_labels = np.concatenate([trn_labels, pseudo_labels])\n",
    "    comb_features = np.concatenate([trn_features, features])\n",
    "\n",
    "    fit_with_features(dm, RMSprop(1e-5), 6, comb_features, comb_labels, val_features, val_labels, batch_size=batch_size)\n",
    "    fit_with_features(dm, RMSprop(1e-6), 8, comb_features, comb_labels, val_features, val_labels, batch_size=batch_size)\n",
    "    fit_with_features(dm, RMSprop(1e-7), 10, comb_features, comb_labels, val_features, val_labels, batch_size=batch_size)\n",
    "\n",
    "    for l1,l2 in zip(model.layers[last_conv_idx(model) + 1:], dm.layers): l1.set_weights(l2.get_weights())\n",
    "    model.save_weights(base_dir + 'models/' + log_id + str(index) + '.h5')\n",
    "    \n",
    "def finetune_dense_layers_with_aug(model, index):\n",
    "    for i in range(len(model.layers)): model.layers[i].trainable = i >= 16\n",
    "    fit_dense_layers_with_aug(model, index, RMSprop(1e-5), 8)\n",
    "    fit_dense_layers_with_aug(model, index, RMSprop(1e-7), 10)\n",
    "    fit_with_batches(model, RMSprop(1e-5), 8, batches_aug, val_batches, batch_size=batch_size)\n",
    "    fit_with_batches(model, RMSprop(1e-7), 10, batches_aug, val_batches, batch_size=batch_size)\n",
    "    model.save_weights(base_dir + 'models/dense_pseudo_aug' + str(index) + '.h5')"
   ]
  },
  {
   "cell_type": "markdown",
   "metadata": {},
   "source": [
    "## Training"
   ]
  },
  {
   "cell_type": "code",
   "execution_count": 7,
   "metadata": {},
   "outputs": [
    {
     "name": "stdout",
     "output_type": "stream",
     "text": [
      "Train on 1500 samples, validate on 1000 samples\n",
      "Epoch 1/12\n",
      "1500/1500 [==============================] - 1s - loss: 7.5894 - acc: 0.1047 - val_loss: 3.8299 - val_acc: 0.1230\n",
      "Epoch 2/12\n",
      "1500/1500 [==============================] - 1s - loss: 7.6912 - acc: 0.1020 - val_loss: 3.6419 - val_acc: 0.1280\n",
      "Epoch 3/12\n",
      "1500/1500 [==============================] - 1s - loss: 7.6177 - acc: 0.1007 - val_loss: 3.5001 - val_acc: 0.1290\n",
      "Epoch 4/12\n",
      "1500/1500 [==============================] - 1s - loss: 7.6614 - acc: 0.0967 - val_loss: 3.4088 - val_acc: 0.1250\n",
      "Epoch 5/12\n",
      "1500/1500 [==============================] - 1s - loss: 7.6807 - acc: 0.1113 - val_loss: 3.3486 - val_acc: 0.1240\n",
      "Epoch 6/12\n",
      "1500/1500 [==============================] - 1s - loss: 7.4595 - acc: 0.1080 - val_loss: 3.3090 - val_acc: 0.1310\n",
      "Epoch 7/12\n",
      "1500/1500 [==============================] - 1s - loss: 7.4788 - acc: 0.1027 - val_loss: 3.2945 - val_acc: 0.1300\n",
      "Epoch 8/12\n",
      "1500/1500 [==============================] - 1s - loss: 7.7507 - acc: 0.0927 - val_loss: 3.2879 - val_acc: 0.1340\n",
      "Epoch 9/12\n",
      "1500/1500 [==============================] - 1s - loss: 7.3248 - acc: 0.1173 - val_loss: 3.2837 - val_acc: 0.1360\n",
      "Epoch 10/12\n",
      "1500/1500 [==============================] - 1s - loss: 7.3624 - acc: 0.1120 - val_loss: 3.2871 - val_acc: 0.1340\n",
      "Epoch 11/12\n",
      "1500/1500 [==============================] - 1s - loss: 7.2888 - acc: 0.1147 - val_loss: 3.2855 - val_acc: 0.1350\n",
      "Epoch 12/12\n",
      "1500/1500 [==============================] - 1s - loss: 7.4828 - acc: 0.1107 - val_loss: 3.2840 - val_acc: 0.1350\n",
      "2017-08-16 16:51 -> 0.13500000006\n",
      "\n",
      "Train on 1500 samples, validate on 1000 samples\n",
      "Epoch 1/6\n",
      "1500/1500 [==============================] - 1s - loss: 7.3148 - acc: 0.1187 - val_loss: 3.3053 - val_acc: 0.1330\n",
      "Epoch 2/6\n",
      "1500/1500 [==============================] - 1s - loss: 7.5171 - acc: 0.0987 - val_loss: 3.3347 - val_acc: 0.1310\n",
      "Epoch 3/6\n",
      "1500/1500 [==============================] - 1s - loss: 7.4770 - acc: 0.1027 - val_loss: 3.3641 - val_acc: 0.1330\n",
      "Epoch 4/6\n",
      "1500/1500 [==============================] - 1s - loss: 7.5062 - acc: 0.1080 - val_loss: 3.3890 - val_acc: 0.1280\n",
      "Epoch 5/6\n",
      "1500/1500 [==============================] - 1s - loss: 7.5252 - acc: 0.1060 - val_loss: 3.4126 - val_acc: 0.1300\n",
      "Epoch 6/6\n",
      "1500/1500 [==============================] - 1s - loss: 7.3922 - acc: 0.1040 - val_loss: 3.4295 - val_acc: 0.1330\n",
      "2017-08-16 16:51 -> 0.133000000119\n",
      "\n",
      "Train on 1500 samples, validate on 1000 samples\n",
      "Epoch 1/10\n",
      "1500/1500 [==============================] - 3s - loss: 6.7028 - acc: 0.1400 - val_loss: 2.8363 - val_acc: 0.2190\n",
      "Epoch 2/10\n",
      "1500/1500 [==============================] - 2s - loss: 5.6333 - acc: 0.1967 - val_loss: 2.5663 - val_acc: 0.2670\n",
      "Epoch 3/10\n",
      "1500/1500 [==============================] - 2s - loss: 4.5867 - acc: 0.2887 - val_loss: 2.2784 - val_acc: 0.3370\n",
      "Epoch 4/10\n",
      "1500/1500 [==============================] - 2s - loss: 4.2223 - acc: 0.3133 - val_loss: 2.0719 - val_acc: 0.4100\n",
      "Epoch 5/10\n",
      "1500/1500 [==============================] - 2s - loss: 3.6117 - acc: 0.3993 - val_loss: 1.8852 - val_acc: 0.4770\n",
      "Epoch 6/10\n",
      "1500/1500 [==============================] - 2s - loss: 3.0414 - acc: 0.4507 - val_loss: 1.7886 - val_acc: 0.5160\n",
      "Epoch 7/10\n",
      "1500/1500 [==============================] - 2s - loss: 2.6853 - acc: 0.5113 - val_loss: 1.6726 - val_acc: 0.5550\n",
      "Epoch 8/10\n",
      "1500/1500 [==============================] - 2s - loss: 2.2748 - acc: 0.5747 - val_loss: 1.5644 - val_acc: 0.5840\n",
      "Epoch 9/10\n",
      "1500/1500 [==============================] - 2s - loss: 2.0882 - acc: 0.5913 - val_loss: 1.4947 - val_acc: 0.5980\n",
      "Epoch 10/10\n",
      "1500/1500 [==============================] - 2s - loss: 1.7428 - acc: 0.6320 - val_loss: 1.3944 - val_acc: 0.6340\n",
      "2017-08-16 16:52 -> 0.634\n",
      "\n",
      "Train on 1500 samples, validate on 1000 samples\n",
      "Epoch 1/8\n",
      "1500/1500 [==============================] - 2s - loss: 1.4392 - acc: 0.6827 - val_loss: 1.3894 - val_acc: 0.6420\n",
      "Epoch 2/8\n",
      "1500/1500 [==============================] - 2s - loss: 1.4781 - acc: 0.6813 - val_loss: 1.3781 - val_acc: 0.6450\n",
      "Epoch 3/8\n",
      "1500/1500 [==============================] - 2s - loss: 1.5990 - acc: 0.6647 - val_loss: 1.3748 - val_acc: 0.6510\n",
      "Epoch 4/8\n",
      "1500/1500 [==============================] - 2s - loss: 1.3902 - acc: 0.6820 - val_loss: 1.3781 - val_acc: 0.6510\n",
      "Epoch 5/8\n",
      "1500/1500 [==============================] - 2s - loss: 1.4491 - acc: 0.6793 - val_loss: 1.3804 - val_acc: 0.6520\n",
      "Epoch 6/8\n",
      "1500/1500 [==============================] - 2s - loss: 1.4330 - acc: 0.6913 - val_loss: 1.3846 - val_acc: 0.6540\n",
      "Epoch 7/8\n",
      "1500/1500 [==============================] - 2s - loss: 1.5640 - acc: 0.6833 - val_loss: 1.3889 - val_acc: 0.6560\n",
      "Epoch 8/8\n",
      "1500/1500 [==============================] - 2s - loss: 1.3680 - acc: 0.7080 - val_loss: 1.3957 - val_acc: 0.6550\n",
      "2017-08-16 16:52 -> 0.655000000238\n",
      "\n",
      "Train on 1500 samples, validate on 1000 samples\n",
      "Epoch 1/10\n",
      "1500/1500 [==============================] - 2s - loss: 1.3374 - acc: 0.7040 - val_loss: 1.4006 - val_acc: 0.6540\n",
      "Epoch 2/10\n",
      "1500/1500 [==============================] - 2s - loss: 1.4163 - acc: 0.6973 - val_loss: 1.4070 - val_acc: 0.6530\n",
      "Epoch 3/10\n",
      "1500/1500 [==============================] - 2s - loss: 1.4104 - acc: 0.6980 - val_loss: 1.4187 - val_acc: 0.6520\n",
      "Epoch 4/10\n",
      "1500/1500 [==============================] - 2s - loss: 1.3997 - acc: 0.6913 - val_loss: 1.4295 - val_acc: 0.6510\n",
      "Epoch 5/10\n",
      "1500/1500 [==============================] - 2s - loss: 1.3911 - acc: 0.7073 - val_loss: 1.4474 - val_acc: 0.6500\n",
      "Epoch 6/10\n",
      "1500/1500 [==============================] - 2s - loss: 1.4284 - acc: 0.7053 - val_loss: 1.4607 - val_acc: 0.6500\n",
      "Epoch 7/10\n",
      "1500/1500 [==============================] - 2s - loss: 1.3626 - acc: 0.6980 - val_loss: 1.4748 - val_acc: 0.6460\n",
      "Epoch 8/10\n",
      "1500/1500 [==============================] - 2s - loss: 1.3278 - acc: 0.7067 - val_loss: 1.4850 - val_acc: 0.6450\n",
      "Epoch 9/10\n",
      "1500/1500 [==============================] - 2s - loss: 1.4547 - acc: 0.6833 - val_loss: 1.4828 - val_acc: 0.6420\n",
      "Epoch 10/10\n",
      "1500/1500 [==============================] - 2s - loss: 1.3420 - acc: 0.7120 - val_loss: 1.4903 - val_acc: 0.6390\n",
      "2017-08-16 16:53 -> 0.639\n",
      "\n",
      "2017-08-16 16:53 -> Finished training model\n",
      "\n"
     ]
    }
   ],
   "source": [
    "clear_logs()\n",
    "model = vgg(output_size, dropout=dropout)\n",
    "finetune_last_layer(model, 0)\n",
    "finetune_dense_layers(model, 0)\n",
    "# finetune_w_valid_pseudo_labels(model, 0)\n",
    "# finetune_w_test_pseudo_labels(model, 0)\n",
    "# finetune_dense_layers_with_aug(model, 0)\n",
    "log_action(\"Finished training model\")"
   ]
  },
  {
   "cell_type": "code",
   "execution_count": null,
   "metadata": {
    "collapsed": true
   },
   "outputs": [],
   "source": [
    "model = vgg(output_size, dropout=dropout)\n",
    "model.load_weights(base_dir + 'models/pseudo_label0.h5')"
   ]
  },
  {
   "cell_type": "markdown",
   "metadata": {},
   "source": [
    "## Visualization"
   ]
  },
  {
   "cell_type": "code",
   "execution_count": 47,
   "metadata": {},
   "outputs": [
    {
     "name": "stdout",
     "output_type": "stream",
     "text": [
      "16/16 [==============================] - 23s    \n",
      "[[85  8  0  5 10  0  0  4  0  8]\n",
      " [ 0 70  0  0  2  1  6 14  2  1]\n",
      " [ 0  1 64  0  2  0  4  8  5  1]\n",
      " [ 3  0  0 93  6  0  0  3  0  3]\n",
      " [ 1  0  0  7 77  0  0  0  0  2]\n",
      " [ 6  1  0  1 14 77  0  3  0  6]\n",
      " [ 0 26  7  3  4  0 56 14  7  0]\n",
      " [ 0  0  0  3  2  3  5 81  1  0]\n",
      " [ 0  8  4  0 14  4 25 26 18  3]\n",
      " [17  5  0 13 17  1  2  9  0 18]]\n"
     ]
    },
    {
     "data": {
      "image/png": "[encoded data removed]",
      "text/plain": [
       "<matplotlib.figure.Figure at 0x7f8ed27a4c18>"
      ]
     },
     "metadata": {},
     "output_type": "display_data"
    }
   ],
   "source": [
    "filenames = val_batches.filenames\n",
    "labels = val_batches.classes\n",
    "\n",
    "val_batches.reset()\n",
    "probs = model.predict_generator(val_batches, steps(val_batches, batch_size), verbose=1)\n",
    "predicted_labels = probs.argmax(axis=1)\n",
    "\n",
    "from sklearn.metrics import confusion_matrix\n",
    "cm = confusion_matrix(labels, predicted_labels)\n",
    "\n",
    "plot_confusion_matrix(cm, val_batches.class_indices)"
   ]
  },
  {
   "cell_type": "markdown",
   "metadata": {},
   "source": [
    "## Submit to Kaggle"
   ]
  },
  {
   "cell_type": "code",
   "execution_count": null,
   "metadata": {
    "collapsed": true
   },
   "outputs": [],
   "source": [
    "def do_clip(arr, mx): return np.clip(arr, (1-mx)/9, mx)\n",
    "\n",
    "preds = model.predict_generator(test_batches, steps(test_batches, batch_size), verbose=1)\n",
    "clipped_preds = do_clip(preds, 0.93)\n",
    "\n",
    "classes = sorted(batches.class_indices, key=batches.class_indices.get)\n",
    "submission = pd.DataFrame(clipped_preds, columns=classes)\n",
    "submission.insert(0, 'img', [a[8:] for a in test_batches.filenames])\n",
    "file_path = base_dir + 'submission.gz'\n",
    "submission.to_csv(file_path, index=False, compression='gzip')\n",
    "    \n",
    "from IPython.display import FileLink\n",
    "FileLink(file_path)"
   ]
  },
  {
   "cell_type": "markdown",
   "metadata": {
    "collapsed": true
   },
   "source": [
    "## Not tried\n",
    "\n",
    "- Other architecture\n",
    "- Ensembling"
   ]
  }
 ],
 "metadata": {
  "anaconda-cloud": {},
  "kernelspec": {
   "display_name": "Python 3",
   "language": "python",
   "name": "python3"
  },
  "language_info": {
   "codemirror_mode": {
    "name": "ipython",
    "version": 3
   },
   "file_extension": ".py",
   "mimetype": "text/x-python",
   "name": "python",
   "nbconvert_exporter": "python",
   "pygments_lexer": "ipython3",
   "version": "3.6.2"
  }
 },
 "nbformat": 4,
 "nbformat_minor": 1
}
